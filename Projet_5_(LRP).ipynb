{
  "nbformat": 4,
  "nbformat_minor": 0,
  "metadata": {
    "colab": {
      "provenance": []
    },
    "kernelspec": {
      "name": "python3",
      "display_name": "Python 3"
    },
    "language_info": {
      "name": "python"
    }
  },
  "cells": [
    {
      "cell_type": "markdown",
      "source": [
        "# La Propagation de Pertinence par Couche (Layer- wise Relevance Propagation,LRP) - Projet 5"
      ],
      "metadata": {
        "id": "35paJf80SjbG"
      }
    },
    {
      "cell_type": "markdown",
      "source": [
        "Van Duy Le / Radja Djihane Elmiri"
      ],
      "metadata": {
        "id": "PRiZP468jSXG"
      }
    },
    {
      "cell_type": "code",
      "source": [
        "import numpy as np\n",
        "import matplotlib.pyplot as plt\n",
        "import unittest\n",
        "\n",
        "# Nouvelles valeurs pour les entrées et les poids\n",
        "x_i_dict = {'x_1': 5, 'x_2': -3, 'x_3': 8}\n",
        "\n",
        "w_j_1_dict = {'w_i1_j1': 0.1, 'w_i2_j1': -0.4, 'w_i3_j1': 0.6}\n",
        "w_j_2_dict = {'w_i1_j2': -0.3, 'w_i2_j2': 0.2, 'w_i3_j2': -0.5}\n",
        "w_j_3_dict = {'w_i1_j3': 0.4, 'w_i2_j3': 0.1, 'w_i3_j3': -0.2}\n",
        "w_j_4_dict = {'w_i1_j4': -0.6, 'w_i2_j4': 0.7, 'w_i3_j4': 0.3}\n",
        "w_j_5_dict = {'w_i1_j5': 0.2, 'w_i2_j5': -0.1, 'w_i3_j5': 0.4}\n",
        "\n",
        "w_k_dict = {'w_j1_k1': 0.5, 'w_j2_k1': -0.2, 'w_j3_k1': 0.3, 'w_j4_k1': 0.6, 'w_j5_k1': -0.4}\n",
        "\n",
        "# Histogramme des poids\n",
        "plt.hist(w_k_dict.values(), 50, density=True, facecolor='g', alpha=0.75)\n",
        "plt.xlabel('Valeurs des poids')\n",
        "plt.title('Histogramme des poids')\n",
        "plt.grid(True)\n",
        "plt.show()"
      ],
      "metadata": {
        "colab": {
          "base_uri": "https://localhost:8080/",
          "height": 472
        },
        "id": "GzbZHKAC514U",
        "outputId": "67239563-9bf0-4df9-ebdf-c95a4d666431"
      },
      "execution_count": null,
      "outputs": [
        {
          "output_type": "display_data",
          "data": {
            "text/plain": [
              "<Figure size 640x480 with 1 Axes>"
            ],
            "image/png": "[encoded data removed]"
          },
          "metadata": {}
        }
      ]
    },
    {
      "cell_type": "code",
      "source": [
        "# Calcul de la passe feedforward\n",
        "sums = {}\n",
        "for j, w_dict in enumerate([w_j_1_dict, w_j_2_dict, w_j_3_dict, w_j_4_dict, w_j_5_dict], start=1):\n",
        "    sums[f'sum_j{j}'] = sum(x_i_dict[f'x_{i+1}'] * w for i, w in enumerate(w_dict.values()))\n",
        "\n",
        "# Application de ReLU\n",
        "vals = {k: max(0, v) for k, v in sums.items()}\n",
        "\n",
        "# Calcul de la sortie du réseau\n",
        "val_k1 = sum(vals.values())\n",
        "print(f\"Valeur de sortie du réseau: {val_k1}\")\n"
      ],
      "metadata": {
        "colab": {
          "base_uri": "https://localhost:8080/"
        },
        "id": "rDhjDIwN569F",
        "outputId": "7a8beb7d-31d7-491f-de64-e928a13d3ac6"
      },
      "execution_count": null,
      "outputs": [
        {
          "output_type": "stream",
          "name": "stdout",
          "text": [
            "Valeur de sortie du réseau: 11.1\n"
          ]
        }
      ]
    },
    {
      "cell_type": "code",
      "source": [
        "# Calcul des pertinences des couches\n",
        "R_k = val_k1\n",
        "R_j = {k: v for k, v in vals.items()}\n",
        "R_i = {}\n",
        "\n",
        "for i in range(3):\n",
        "    R_i[f'R_i{i+1}'] = sum((w_dict[f'w_i{i+1}_j{j+1}'] ** 2 / sum(w ** 2 for w in w_dict.values())) * R_j[f'sum_j{j+1}']\n",
        "                            for j, w_dict in enumerate([w_j_1_dict, w_j_2_dict, w_j_3_dict, w_j_4_dict, w_j_5_dict]))\n",
        "\n",
        "print(f\"Pertinences des neurones de la couche i: {R_i}\")\n"
      ],
      "metadata": {
        "colab": {
          "base_uri": "https://localhost:8080/"
        },
        "id": "LYoXFmri5_L4",
        "outputId": "3b94b641-fafe-4195-f5b8-c2c4f5c918f8"
      },
      "execution_count": null,
      "outputs": [
        {
          "output_type": "stream",
          "name": "stdout",
          "text": [
            "Pertinences des neurones de la couche i: {'R_i1': 1.0559748427672955, 'R_i2': 2.1813117699910154, 'R_i3': 7.862713387241689}\n"
          ]
        }
      ]
    },
    {
      "cell_type": "code",
      "source": [
        "# Vérification de la positivité\n",
        "def check_positivity():\n",
        "    assert R_k >= 0, \"Relevance of every neuron of every layer must be positive\"\n",
        "    for r in R_j.values():\n",
        "        assert r >= 0, \"Relevance of every neuron of every layer must be positive\"\n",
        "    for r in R_i.values():\n",
        "        assert r >= 0, \"Relevance of every neuron of every layer must be positive\"\n",
        "    print(\"Positivity check passed.\")\n",
        "\n",
        "check_positivity()"
      ],
      "metadata": {
        "colab": {
          "base_uri": "https://localhost:8080/"
        },
        "id": "dPJq7Hhu6Cqt",
        "outputId": "961fdf39-2c75-4f3b-c114-3d3bceec2830"
      },
      "execution_count": null,
      "outputs": [
        {
          "output_type": "stream",
          "name": "stdout",
          "text": [
            "Positivity check passed.\n"
          ]
        }
      ]
    },
    {
      "cell_type": "code",
      "source": [
        "# Vérification de la conservativité\n",
        "def check_conservativity():\n",
        "    sum_Rj = sum(R_j.values())\n",
        "    sum_Ri = sum(R_i.values())\n",
        "    print(f\"Conservativity j --to--> k: sum_Rj: {sum_Rj}, R_k: {R_k}\")\n",
        "    print(f\"Conservativity i --to--> j: sum_Ri: {sum_Ri}, sum_Rj: {sum_Rj}\")\n",
        "    assert np.isclose(sum_Rj, R_k), \"Conservativity property violated at j --to--> k\"\n",
        "    assert np.isclose(sum_Ri, sum_Rj), \"Conservativity property violated at i --to--> j\"\n",
        "    print(\"Conservativity check passed.\")\n",
        "\n",
        "check_conservativity()"
      ],
      "metadata": {
        "colab": {
          "base_uri": "https://localhost:8080/"
        },
        "id": "QK2uRKyc6HPG",
        "outputId": "b45ebd12-7802-4499-c3a6-a0f7551dfeec"
      },
      "execution_count": null,
      "outputs": [
        {
          "output_type": "stream",
          "name": "stdout",
          "text": [
            "Conservativity j --to--> k: sum_Rj: 11.1, R_k: 11.1\n",
            "Conservativity i --to--> j: sum_Ri: 11.1, sum_Rj: 11.1\n",
            "Conservativity check passed.\n"
          ]
        }
      ]
    },
    {
      "cell_type": "code",
      "source": [
        "# Tests unitaires\n",
        "class TestLRPProperties(unittest.TestCase):\n",
        "    def test_relevance_positivity(self):\n",
        "        check_positivity()\n",
        "\n",
        "    def test_relevance_conservativity(self):\n",
        "        check_conservativity()\n",
        "\n",
        "unittest.main(argv=[''], verbosity=2, exit=False)"
      ],
      "metadata": {
        "colab": {
          "base_uri": "https://localhost:8080/"
        },
        "id": "CPJAakmd6LGY",
        "outputId": "cf6f5fbc-c89b-46ec-ccaa-ccbfaf0c68a1"
      },
      "execution_count": null,
      "outputs": [
        {
          "output_type": "stream",
          "name": "stderr",
          "text": [
            "test_relevance_conservativity (__main__.TestLRPProperties.test_relevance_conservativity) ... ok\n",
            "test_relevance_positivity (__main__.TestLRPProperties.test_relevance_positivity) ... ok\n",
            "\n",
            "----------------------------------------------------------------------\n",
            "Ran 2 tests in 0.006s\n",
            "\n",
            "OK\n"
          ]
        },
        {
          "output_type": "stream",
          "name": "stdout",
          "text": [
            "Conservativity j --to--> k: sum_Rj: 11.1, R_k: 11.1\n",
            "Conservativity i --to--> j: sum_Ri: 11.1, sum_Rj: 11.1\n",
            "Conservativity check passed.\n",
            "Positivity check passed.\n"
          ]
        },
        {
          "output_type": "execute_result",
          "data": {
            "text/plain": [
              "<unittest.main.TestProgram at 0x7aac82e1a7d0>"
            ]
          },
          "metadata": {},
          "execution_count": 7
        }
      ]
    }
  ]
}